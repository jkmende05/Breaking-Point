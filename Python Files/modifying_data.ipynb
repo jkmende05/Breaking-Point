{
 "cells": [
  {
   "cell_type": "markdown",
   "metadata": {},
   "source": [
    "#### Import Packages and Libraries to be Used"
   ]
  },
  {
   "cell_type": "code",
   "execution_count": 2,
   "metadata": {},
   "outputs": [],
   "source": [
    "import pandas as pd\n",
    "import numpy as np"
   ]
  },
  {
   "cell_type": "markdown",
   "metadata": {},
   "source": [
    "#### Stadium Elevation Data"
   ]
  },
  {
   "cell_type": "code",
   "execution_count": null,
   "metadata": {},
   "outputs": [],
   "source": [
    "stadium_data = pd.read_csv('stadium_data.csv')\n",
    "stadium_data = stadium_data.rename(columns = {'Team' : 'Home Team'})\n",
    "\n",
    "stadium_data"
   ]
  },
  {
   "cell_type": "markdown",
   "metadata": {},
   "source": [
    "#### Function to Process Data"
   ]
  },
  {
   "cell_type": "code",
   "execution_count": 4,
   "metadata": {},
   "outputs": [],
   "source": [
    "def process_data (data : pd.DataFrame):\n",
    "    data = data[data['game_type'] != 'S']\n",
    "\n",
    "    data_columns = ['game_year', 'release_speed', 'release_pos_x', 'release_pos_z', 'player_name', 'p_throws', 'events', 'description', 'type', 'home_team',\n",
    "                    'bb_type', 'pfx_x', 'pfx_z', 'inning', 'release_spin_rate', 'release_extension', 'launch_speed', 'arm_angle', 'strikes']\n",
    "\n",
    "    data = data[data_columns]\n",
    "\n",
    "    data = data.rename(columns={'game_year': 'Year', 'release_speed': 'Velocity (mph)', 'release_pos_x' : 'Horizontal Release Position (feet)',\n",
    "                                                        'release_pos_z' : 'Vertical Release Position (feet)', 'player_name' : 'Pitcher', 'events' : 'Event',\n",
    "                                                        'description' : 'Pitch Result', 'type' : 'Type', 'home_team' : 'Home Team', 'bb_type': 'Batted Ball Type',\n",
    "                                                        'pfx_x' : 'Horizontal Movement (inches)', 'pfx_z' : 'Induced Vertical Movement (inches)', 'inning' : 'Inning', 'release_spin_rate' : 'Spin Rate',\n",
    "                                                        'release_extension' : 'Extension', 'p_throws' : 'Throws', 'launch_speed' : 'Exit Velocity', 'arm_angle' : 'Arm Angle', 'strikes' : 'Strikes'})\n",
    "\n",
    "    data['Pitcher'] = data['Pitcher'].apply(lambda x: ' '.join(x.split(', ')[::-1]))\n",
    "\n",
    "    # Drop duplicates from stadium_data since over the last ten years, new stadiums have been at the exact same elevation as previous stadiums\n",
    "    elevation_data = stadium_data[['Home Team', 'Elevation']].drop_duplicates()\n",
    "\n",
    "    data = pd.merge(\n",
    "        data,\n",
    "        elevation_data,\n",
    "        on='Home Team')\n",
    "\n",
    "    data['Event'] = data['Event'].replace( {'field_out' : 'Field Out', 'strikeout' : 'Strikeout', np.nan : ' ', 'double' : 'Double',\n",
    "                                                            'grounded_into_double_play' : 'Grounded Into Double Play', 'field_error' : 'Error', 'single' : 'Single',\n",
    "                                                            'walk' : 'Walk', 'hit_by_pitch' : 'Hit By Pitch', 'home_run' : 'Home Run', 'force_out' : 'Force Out', \n",
    "                                                            'fielders_choice' : 'Fielder\\'s Choice', 'truncated_pa' : 'Truncated PA', 'double_play' : 'Double Play',\n",
    "                                                            'sac_fly' : 'Sacrifice Fly', 'triple' : 'Triple', 'catcher_interf' : 'Catcher Interferance', \n",
    "                                                            'strikeout_double_play' : 'Strikeout Double Play', 'sac_bunt' : 'Sacrifice Bunt', 'sac_fly_double_play' : 'Sacrifice Fly Double Play',\n",
    "                                                            'fielders_choice_out' : 'Fielder\\'s Choice Out', 'triple_play' : 'Triple Play'})\n",
    "\n",
    "    data['Pitch Result'] = data['Pitch Result'].replace({'hit_into_play' : 'Ball in Play', 'swinging_strike' : 'Swinging Strike', 'called_strike' : 'Called Strike',\n",
    "                                                                        'ball' : 'Ball', 'foul' : 'Foul', 'foul_tip' : 'Foul Tip', 'blocked_ball' : 'Blocked Ball', 'hit_by_pitch' : 'Hit By Pitch',\n",
    "                                                                        'swinging_strike_blocked' : 'Swinging Strike Blocked', 'foul_bunt' : 'Foul Bunt', 'missed_bunt' : 'Missed Bunt',\n",
    "                                                                        'bunt_foul_tip' : 'Bunt Foul Tip'})\n",
    "\n",
    "    data['Type'] = data['Type'].replace({'X' : 'Ball in Play', 'S' : 'Strike', 'B' : 'Ball'})\n",
    "\n",
    "    data['Batted Ball Type'] = data['Batted Ball Type'].replace({'ground_ball' : 'Ground Ball', np.nan : ' ', 'line_drive' : 'Line Drive', 'popup' : 'Pop up', 'fly_ball' : 'Fly Ball'})\n",
    "\n",
    "    data['Throws'] = data['Throws'].replace({'R' : 'Right', 'L' : 'Left'})\n",
    "\n",
    "    data['Horizontal Movement (inches)'] = data['Horizontal Movement (inches)'] * 12\n",
    "    data['Induced Vertical Movement (inches)'] = data['Induced Vertical Movement (inches)'] * 12\n",
    "\n",
    "    return data\n"
   ]
  },
  {
   "cell_type": "markdown",
   "metadata": {},
   "source": [
    "#### Modify Slider Data"
   ]
  },
  {
   "cell_type": "code",
   "execution_count": null,
   "metadata": {},
   "outputs": [],
   "source": [
    "slider_data = pd.read_csv('slider_raw_data.csv')"
   ]
  },
  {
   "cell_type": "code",
   "execution_count": null,
   "metadata": {},
   "outputs": [],
   "source": [
    "slider_data = process_data(slider_data)\n",
    "\n",
    "slider_data.to_csv(\"slider_processed_data.csv\")\n",
    "slider_data"
   ]
  },
  {
   "cell_type": "markdown",
   "metadata": {},
   "source": [
    "#### Modify Sweeper Data"
   ]
  },
  {
   "cell_type": "code",
   "execution_count": null,
   "metadata": {},
   "outputs": [],
   "source": [
    "sweeper_data = pd.read_csv('sweeper_raw_data.csv')"
   ]
  },
  {
   "cell_type": "code",
   "execution_count": null,
   "metadata": {},
   "outputs": [],
   "source": [
    "sweeper_data = process_data(sweeper_data)\n",
    "\n",
    "sweeper_data.to_csv(\"sweeper_processed_data.csv\")\n",
    "sweeper_data"
   ]
  },
  {
   "cell_type": "markdown",
   "metadata": {},
   "source": [
    "#### Modify Slurve Data"
   ]
  },
  {
   "cell_type": "code",
   "execution_count": null,
   "metadata": {},
   "outputs": [],
   "source": [
    "slurve_data = pd.read_csv('slurve_raw_data.csv')"
   ]
  },
  {
   "cell_type": "code",
   "execution_count": null,
   "metadata": {},
   "outputs": [],
   "source": [
    "slurve_data = process_data(slurve_data)\n",
    "\n",
    "slurve_data.to_csv(\"slurve_processed_data.csv\")\n",
    "slurve_data"
   ]
  },
  {
   "cell_type": "code",
   "execution_count": null,
   "metadata": {},
   "outputs": [],
   "source": []
  }
 ],
 "metadata": {
  "kernelspec": {
   "display_name": "dashboard_development",
   "language": "python",
   "name": "python3"
  },
  "language_info": {
   "codemirror_mode": {
    "name": "ipython",
    "version": 3
   },
   "file_extension": ".py",
   "mimetype": "text/x-python",
   "name": "python",
   "nbconvert_exporter": "python",
   "pygments_lexer": "ipython3",
   "version": "3.13.1"
  }
 },
 "nbformat": 4,
 "nbformat_minor": 2
}
