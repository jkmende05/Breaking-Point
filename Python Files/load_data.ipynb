{
 "cells": [
  {
   "cell_type": "markdown",
   "metadata": {},
   "source": [
    "### load_data.ipynb: Jupyter Notebook used to load statcast data from pybaseball python library"
   ]
  },
  {
   "cell_type": "markdown",
   "metadata": {},
   "source": [
    "##### Note: If running this notebook, please be aware that due to the amount of data being loaded, it is suggested that you use the existing .csv files in the folder due to the amount of time required to retrieve the data."
   ]
  },
  {
   "cell_type": "markdown",
   "metadata": {},
   "source": [
    "#### Import Libraries and Packages"
   ]
  },
  {
   "cell_type": "code",
   "execution_count": null,
   "metadata": {},
   "outputs": [],
   "source": [
    "import pandas as pd\n",
    "import pybaseball\n",
    "\n",
    "from pybaseball import statcast"
   ]
  },
  {
   "cell_type": "code",
   "execution_count": null,
   "metadata": {},
   "outputs": [],
   "source": [
    "pybaseball.cache.enable()"
   ]
  },
  {
   "cell_type": "markdown",
   "metadata": {},
   "source": [
    "#### Function to retrieve pitch data for specific pitch type from the last ten years"
   ]
  },
  {
   "cell_type": "code",
   "execution_count": null,
   "metadata": {},
   "outputs": [],
   "source": [
    "def retrieve_pitch_data(pitch_type : str):\n",
    "    pitch_data = pd.DataFrame()\n",
    "    start_dates = ['2024-01-01', '2023-01-01', '2022-01-01', '2021-01-01', '2020-01-01', '2019-01-01', '2018-01-01', '2017-01-01', '2016-01-01', '2015-01-01']\n",
    "    end_dates = ['2024-12-01', '2023-12-01', '2022-12-01', '2021-12-01', '2020-12-01', '2019-12-01', '2018-12-01', '2017-12-01', '2016-12-01', '2015-12-01']\n",
    "    \n",
    "    # For loop to get pitch data from last ten years and convert to data frame\n",
    "    for i in start_dates:\n",
    "        index = start_dates.index(i)\n",
    "        data = statcast(start_dates[index], end_dt = end_dates[index])\n",
    "        pitch_data = pd.concat([pitch_data, data[data['pitch_type'] == pitch_type]])\n",
    "\n",
    "    return pitch_data"
   ]
  },
  {
   "cell_type": "markdown",
   "metadata": {},
   "source": [
    "#### Retrieve Slider Data"
   ]
  },
  {
   "cell_type": "code",
   "execution_count": null,
   "metadata": {},
   "outputs": [],
   "source": [
    "# Use retrieve_pitch_data function to get slider pitch data and convert to dataframe\n",
    "slider_data = retrieve_pitch_data(\"SL\")"
   ]
  },
  {
   "cell_type": "code",
   "execution_count": null,
   "metadata": {},
   "outputs": [],
   "source": [
    "# Save slider data to csv file \n",
    "slider_data.to_csv(\"slider_raw_data.csv\")\n",
    "slider_data"
   ]
  },
  {
   "cell_type": "markdown",
   "metadata": {},
   "source": [
    "#### Retrieve Sweeper Data"
   ]
  },
  {
   "cell_type": "code",
   "execution_count": null,
   "metadata": {},
   "outputs": [],
   "source": [
    "# Use retrieve_pitch_data function to get sweeper pitch data and convert to dataframe\n",
    "sweeper_data = retrieve_pitch_data(\"ST\")"
   ]
  },
  {
   "cell_type": "code",
   "execution_count": null,
   "metadata": {},
   "outputs": [],
   "source": [
    "# Save sweeper data to csv file \n",
    "sweeper_data.to_csv(\"sweeper_raw_data.csv\")\n",
    "sweeper_data"
   ]
  },
  {
   "cell_type": "markdown",
   "metadata": {},
   "source": [
    "#### Retrieve Slurve Data"
   ]
  },
  {
   "cell_type": "code",
   "execution_count": null,
   "metadata": {},
   "outputs": [],
   "source": [
    "# Use retrieve_pitch_data function to get slurve pitch data and convert to dataframe\n",
    "slurve_data = retrieve_pitch_data(\"SV\")"
   ]
  },
  {
   "cell_type": "code",
   "execution_count": null,
   "metadata": {},
   "outputs": [],
   "source": [
    "# Save slurve data to csv file \n",
    "slurve_data.to_csv(\"slurve_raw_data.csv\")\n",
    "slurve_data"
   ]
  }
 ],
 "metadata": {
  "kernelspec": {
   "display_name": "dashboard_development",
   "language": "python",
   "name": "python3"
  },
  "language_info": {
   "codemirror_mode": {
    "name": "ipython",
    "version": 3
   },
   "file_extension": ".py",
   "mimetype": "text/x-python",
   "name": "python",
   "nbconvert_exporter": "python",
   "pygments_lexer": "ipython3",
   "version": "3.13.1"
  }
 },
 "nbformat": 4,
 "nbformat_minor": 2
}
